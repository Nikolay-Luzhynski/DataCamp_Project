{
 "cells": [
  {
   "cell_type": "markdown",
   "id": "small-resistance",
   "metadata": {
    "id": "bA5ajAmk7XH6",
    "pycharm": {
     "name": "#%% md\n"
    }
   },
   "source": [
    "# DataCamp Certification Case Study\n",
    "\n",
    "### Project Brief\n",
    "\n",
    "You have been hired as a data scientist at Discount Motors, a used car dealership in the UK. The dealership is expanding and has hired a large number of junior salespeople. Although promising, these junior employees have difficulties pricing used cars that arrive at the dealership. Sales have declined 18% in recent months, and management would like your help designing a tool to assist these junior employees.\n",
    "\n",
    "To start with, they would like you to work with the Toyota specialist to test your idea(s). They have collected some data from other retailers on the price that a range of Toyota cars were listed at. It is known that cars that are more than £1500 above the estimated price will not sell. The sales team wants to know whether you can make predictions within this range.\n",
    "\n",
    "You will need to present your findings in two formats:\n",
    "- You must submit a written report summarising your analysis to your manager. As a data science manager, your manager has a strong technical background and wants to understand what you have done and why. \n",
    "- You will then need to share your findings with the head of sales in a 10 minute presentation. The head of sales has no data science background but is familiar with basic data related terminology. \n",
    "\n",
    "The data you will use for this analysis can be accessed here: `\"data/toyota.csv\"`"
   ]
  },
  {
   "cell_type": "markdown",
   "id": "a694a5f4-df21-43ca-bdf4-9a76ecced317",
   "metadata": {
    "pycharm": {
     "name": "#%% md\n"
    }
   },
   "source": [
    "<h2>Work plan</h2>"
   ]
  },
  {
   "cell_type": "markdown",
   "id": "d417fc7d-e5c0-49d4-a858-fc015c06311a",
   "metadata": {
    "pycharm": {
     "name": "#%% md\n"
    }
   },
   "source": [
    "[1. Import data and modules](#1)"
   ]
  },
  {
   "cell_type": "markdown",
   "id": "2ab336d9-08f0-4026-99eb-a0be2ef05f26",
   "metadata": {
    "pycharm": {
     "name": "#%% md\n"
    }
   },
   "source": [
    "[2. Data analysis (EDA)](#2)"
   ]
  },
  {
   "cell_type": "markdown",
   "id": "e4ca577b",
   "metadata": {
    "pycharm": {
     "name": "#%% md\n"
    }
   },
   "source": [
    "[3. Pre-processing data for learning](#3)"
   ]
  },
  {
   "cell_type": "markdown",
   "id": "b1e339d8",
   "metadata": {
    "pycharm": {
     "name": "#%% md\n"
    }
   },
   "source": [
    "[4. Learning - Baseline models](#4)"
   ]
  },
  {
   "cell_type": "markdown",
   "id": "8bba2b1b",
   "metadata": {
    "pycharm": {
     "name": "#%% md\n"
    }
   },
   "source": [
    "[5. Analysis of important features](#5)"
   ]
  },
  {
   "cell_type": "markdown",
   "id": "447d751c",
   "metadata": {
    "pycharm": {
     "name": "#%% md\n"
    }
   },
   "source": [
    "[6. Final Learning and result](#6)"
   ]
  },
  {
   "cell_type": "markdown",
   "id": "977185e4-15e9-4dee-b616-1068d790cab6",
   "metadata": {
    "pycharm": {
     "name": "#%% md\n"
    }
   },
   "source": [
    "<a id='1'><h2>1.Import data and modules</h2></a>"
   ]
  },
  {
   "cell_type": "code",
   "execution_count": 200,
   "id": "90907253-d05c-441b-8a30-379a192a1411",
   "metadata": {
    "pycharm": {
     "name": "#%%\n"
    }
   },
   "outputs": [],
   "source": [
    "import pandas as pd\n",
    "import numpy as np\n",
    "\n",
    "import matplotlib.pyplot as plt\n",
    "import seaborn as sns\n",
    "% matplotlib inline\n",
    "\n",
    "from sklearn.model_selection import train_test_split, cross_val_score, GridSearchCV\n",
    "from sklearn.linear_model import LinearRegression, SGDRegressor, Ridge, Lasso\n",
    "from sklearn.ensemble import RandomForestRegressor\n",
    "from sklearn.metrics import explained_variance_score as evs, mean_squared_error as mse\n",
    "\n",
    "from catboost import CatBoostRegressor\n",
    "from xgboost import XGBRegressor\n",
    "import xgboost as xgb\n",
    "\n",
    "import warnings\n",
    "\n",
    "warnings.filterwarnings('ignore')\n",
    "\n",
    "RAND = 8"
   ]
  },
  {
   "cell_type": "code",
   "execution_count": 2,
   "id": "aa36da4e-ff1c-4fb7-9991-06650fc02c51",
   "metadata": {
    "pycharm": {
     "name": "#%%\n"
    }
   },
   "outputs": [
    {
     "data": {
      "text/html": [
       "<div>\n",
       "<style scoped>\n",
       "    .dataframe tbody tr th:only-of-type {\n",
       "        vertical-align: middle;\n",
       "    }\n",
       "\n",
       "    .dataframe tbody tr th {\n",
       "        vertical-align: top;\n",
       "    }\n",
       "\n",
       "    .dataframe thead th {\n",
       "        text-align: right;\n",
       "    }\n",
       "</style>\n",
       "<table border=\"1\" class=\"dataframe\">\n",
       "  <thead>\n",
       "    <tr style=\"text-align: right;\">\n",
       "      <th></th>\n",
       "      <th>model</th>\n",
       "      <th>year</th>\n",
       "      <th>price</th>\n",
       "      <th>transmission</th>\n",
       "      <th>mileage</th>\n",
       "      <th>fuelType</th>\n",
       "      <th>tax</th>\n",
       "      <th>mpg</th>\n",
       "      <th>engineSize</th>\n",
       "    </tr>\n",
       "  </thead>\n",
       "  <tbody>\n",
       "    <tr>\n",
       "      <th>0</th>\n",
       "      <td>GT86</td>\n",
       "      <td>2016</td>\n",
       "      <td>16000</td>\n",
       "      <td>Manual</td>\n",
       "      <td>24089</td>\n",
       "      <td>Petrol</td>\n",
       "      <td>265</td>\n",
       "      <td>36.2</td>\n",
       "      <td>2.0</td>\n",
       "    </tr>\n",
       "    <tr>\n",
       "      <th>1</th>\n",
       "      <td>GT86</td>\n",
       "      <td>2017</td>\n",
       "      <td>15995</td>\n",
       "      <td>Manual</td>\n",
       "      <td>18615</td>\n",
       "      <td>Petrol</td>\n",
       "      <td>145</td>\n",
       "      <td>36.2</td>\n",
       "      <td>2.0</td>\n",
       "    </tr>\n",
       "    <tr>\n",
       "      <th>2</th>\n",
       "      <td>GT86</td>\n",
       "      <td>2015</td>\n",
       "      <td>13998</td>\n",
       "      <td>Manual</td>\n",
       "      <td>27469</td>\n",
       "      <td>Petrol</td>\n",
       "      <td>265</td>\n",
       "      <td>36.2</td>\n",
       "      <td>2.0</td>\n",
       "    </tr>\n",
       "    <tr>\n",
       "      <th>3</th>\n",
       "      <td>GT86</td>\n",
       "      <td>2017</td>\n",
       "      <td>18998</td>\n",
       "      <td>Manual</td>\n",
       "      <td>14736</td>\n",
       "      <td>Petrol</td>\n",
       "      <td>150</td>\n",
       "      <td>36.2</td>\n",
       "      <td>2.0</td>\n",
       "    </tr>\n",
       "    <tr>\n",
       "      <th>4</th>\n",
       "      <td>GT86</td>\n",
       "      <td>2017</td>\n",
       "      <td>17498</td>\n",
       "      <td>Manual</td>\n",
       "      <td>36284</td>\n",
       "      <td>Petrol</td>\n",
       "      <td>145</td>\n",
       "      <td>36.2</td>\n",
       "      <td>2.0</td>\n",
       "    </tr>\n",
       "  </tbody>\n",
       "</table>\n",
       "</div>"
      ],
      "text/plain": [
       "   model  year  price transmission  mileage fuelType  tax   mpg  engineSize\n",
       "0   GT86  2016  16000       Manual    24089   Petrol  265  36.2         2.0\n",
       "1   GT86  2017  15995       Manual    18615   Petrol  145  36.2         2.0\n",
       "2   GT86  2015  13998       Manual    27469   Petrol  265  36.2         2.0\n",
       "3   GT86  2017  18998       Manual    14736   Petrol  150  36.2         2.0\n",
       "4   GT86  2017  17498       Manual    36284   Petrol  145  36.2         2.0"
      ]
     },
     "execution_count": 2,
     "metadata": {},
     "output_type": "execute_result"
    }
   ],
   "source": [
    "dataset = pd.read_csv('data/toyota.csv')\n",
    "dataset.head()"
   ]
  },
  {
   "cell_type": "code",
   "execution_count": 3,
   "id": "6ca11d6a-65eb-4682-84f4-353a9b7f250c",
   "metadata": {
    "pycharm": {
     "name": "#%%\n"
    }
   },
   "outputs": [
    {
     "name": "stdout",
     "output_type": "stream",
     "text": [
      "<class 'pandas.core.frame.DataFrame'>\n",
      "RangeIndex: 6738 entries, 0 to 6737\n",
      "Data columns (total 9 columns):\n",
      " #   Column        Non-Null Count  Dtype  \n",
      "---  ------        --------------  -----  \n",
      " 0   model         6738 non-null   object \n",
      " 1   year          6738 non-null   int64  \n",
      " 2   price         6738 non-null   int64  \n",
      " 3   transmission  6738 non-null   object \n",
      " 4   mileage       6738 non-null   int64  \n",
      " 5   fuelType      6738 non-null   object \n",
      " 6   tax           6738 non-null   int64  \n",
      " 7   mpg           6738 non-null   float64\n",
      " 8   engineSize    6738 non-null   float64\n",
      "dtypes: float64(2), int64(4), object(3)\n",
      "memory usage: 473.9+ KB\n"
     ]
    }
   ],
   "source": [
    "dataset.info();"
   ]
  },
  {
   "cell_type": "markdown",
   "id": "546aa6bd-b795-48ab-9a47-d3fb55747302",
   "metadata": {
    "pycharm": {
     "name": "#%% md\n"
    }
   },
   "source": [
    "<h3>The following features are represented:</h3>\n",
    "<ol>\n",
    "    <li><b>'model'</b> - model of car</li>\n",
    "    <li><b>'year'</b> - production year</li>\n",
    "    <li><b>'price'</b> - price of car</li>\n",
    "    <li><b>'transmission'</b> - transmission of car</li>\n",
    "    <li><b>'mileage'</b> - mileage of car</li>\n",
    "    <li><b>'fuelType'</b> - fuelType of car</li>\n",
    "    <li><b>'tax'</b> - car tax</li>\n",
    "    <li><b>'mpg'</b> - miles per gallon</li>\n",
    "    <li><b>'engineSize'</b> - engine size of car</li>"
   ]
  },
  {
   "cell_type": "markdown",
   "id": "08e2988e-159e-491b-9961-8d9e8232ce06",
   "metadata": {
    "pycharm": {
     "name": "#%% md\n"
    }
   },
   "source": [
    "<h3>Some words about DataFrame:</h3>\n",
    "<ol>\n",
    "    <li>Df contains of 6738 cars with 8 features</li>\n",
    "\t<li>Df doesn't have na-values</li>\n",
    " "
   ]
  },
  {
   "cell_type": "markdown",
   "id": "5e1be897-7b61-407a-8f2d-29b8ffc176da",
   "metadata": {
    "pycharm": {
     "name": "#%% md\n"
    }
   },
   "source": [
    "<a id='2'><h2>2. Data analysis (EDA)</h2></a>"
   ]
  },
  {
   "cell_type": "code",
   "execution_count": 4,
   "id": "0c16a19e-7179-4da2-892c-e562051f7167",
   "metadata": {
    "pycharm": {
     "name": "#%%\n"
    }
   },
   "outputs": [],
   "source": [
    "# convert years to object\n",
    "dataset.year = dataset.year.astype('object')"
   ]
  },
  {
   "cell_type": "code",
   "execution_count": 5,
   "id": "934d3c18-1b43-4904-ade0-9b26d35747fa",
   "metadata": {
    "pycharm": {
     "name": "#%%\n"
    }
   },
   "outputs": [],
   "source": [
    "num_vars = dataset.select_dtypes(include=['int', 'float']).columns\n",
    "cat_vars = dataset.select_dtypes(include=['object']).columns\n",
    "\n",
    "assert len(num_vars) + len(cat_vars) == dataset.shape[1]"
   ]
  },
  {
   "cell_type": "code",
   "execution_count": 6,
   "id": "2f811157-1b03-4e81-a720-79b9eff00920",
   "metadata": {
    "pycharm": {
     "name": "#%%\n"
    }
   },
   "outputs": [
    {
     "data": {
      "image/png": "[encoded data removed]",
      "text/plain": [
       "<Figure size 432x288 with 2 Axes>"
      ]
     },
     "metadata": {
      "needs_background": "light"
     },
     "output_type": "display_data"
    }
   ],
   "source": [
    "sns.heatmap(dataset.corr());"
   ]
  },
  {
   "cell_type": "code",
   "execution_count": 7,
   "id": "1378e188-606d-4d03-b59a-12183be2b4f5",
   "metadata": {
    "pycharm": {
     "name": "#%%\n"
    }
   },
   "outputs": [
    {
     "data": {
      "text/html": [
       "<div>\n",
       "<style scoped>\n",
       "    .dataframe tbody tr th:only-of-type {\n",
       "        vertical-align: middle;\n",
       "    }\n",
       "\n",
       "    .dataframe tbody tr th {\n",
       "        vertical-align: top;\n",
       "    }\n",
       "\n",
       "    .dataframe thead th {\n",
       "        text-align: right;\n",
       "    }\n",
       "</style>\n",
       "<table border=\"1\" class=\"dataframe\">\n",
       "  <thead>\n",
       "    <tr style=\"text-align: right;\">\n",
       "      <th></th>\n",
       "      <th>price</th>\n",
       "      <th>mileage</th>\n",
       "      <th>tax</th>\n",
       "      <th>mpg</th>\n",
       "      <th>engineSize</th>\n",
       "    </tr>\n",
       "  </thead>\n",
       "  <tbody>\n",
       "    <tr>\n",
       "      <th>price</th>\n",
       "      <td>1.000000</td>\n",
       "      <td>-0.297936</td>\n",
       "      <td>0.214498</td>\n",
       "      <td>-0.039910</td>\n",
       "      <td>0.727592</td>\n",
       "    </tr>\n",
       "    <tr>\n",
       "      <th>mileage</th>\n",
       "      <td>-0.297936</td>\n",
       "      <td>1.000000</td>\n",
       "      <td>-0.205285</td>\n",
       "      <td>0.044889</td>\n",
       "      <td>0.182615</td>\n",
       "    </tr>\n",
       "    <tr>\n",
       "      <th>tax</th>\n",
       "      <td>0.214498</td>\n",
       "      <td>-0.205285</td>\n",
       "      <td>1.000000</td>\n",
       "      <td>-0.430292</td>\n",
       "      <td>0.155727</td>\n",
       "    </tr>\n",
       "    <tr>\n",
       "      <th>mpg</th>\n",
       "      <td>-0.039910</td>\n",
       "      <td>0.044889</td>\n",
       "      <td>-0.430292</td>\n",
       "      <td>1.000000</td>\n",
       "      <td>-0.106868</td>\n",
       "    </tr>\n",
       "    <tr>\n",
       "      <th>engineSize</th>\n",
       "      <td>0.727592</td>\n",
       "      <td>0.182615</td>\n",
       "      <td>0.155727</td>\n",
       "      <td>-0.106868</td>\n",
       "      <td>1.000000</td>\n",
       "    </tr>\n",
       "  </tbody>\n",
       "</table>\n",
       "</div>"
      ],
      "text/plain": [
       "               price   mileage       tax       mpg  engineSize\n",
       "price       1.000000 -0.297936  0.214498 -0.039910    0.727592\n",
       "mileage    -0.297936  1.000000 -0.205285  0.044889    0.182615\n",
       "tax         0.214498 -0.205285  1.000000 -0.430292    0.155727\n",
       "mpg        -0.039910  0.044889 -0.430292  1.000000   -0.106868\n",
       "engineSize  0.727592  0.182615  0.155727 -0.106868    1.000000"
      ]
     },
     "execution_count": 7,
     "metadata": {},
     "output_type": "execute_result"
    }
   ],
   "source": [
    "dataset.corr()"
   ]
  },
  {
   "cell_type": "markdown",
   "id": "e2fc8a6e-6a3e-4744-9bc4-089962435712",
   "metadata": {
    "pycharm": {
     "name": "#%% md\n"
    }
   },
   "source": [
    "<h3>Price - the target</h3>"
   ]
  },
  {
   "cell_type": "code",
   "execution_count": 8,
   "id": "865a26a8-4ca8-474f-88ad-1fcd724c606a",
   "metadata": {
    "pycharm": {
     "name": "#%%\n"
    }
   },
   "outputs": [
    {
     "data": {
      "text/plain": [
       "count     6738.000000\n",
       "mean     12522.391066\n",
       "std       6345.017587\n",
       "min        850.000000\n",
       "25%       8290.000000\n",
       "50%      10795.000000\n",
       "75%      14995.000000\n",
       "max      59995.000000\n",
       "Name: price, dtype: float64"
      ]
     },
     "execution_count": 8,
     "metadata": {},
     "output_type": "execute_result"
    }
   ],
   "source": [
    "dataset.price.describe()"
   ]
  },
  {
   "cell_type": "code",
   "execution_count": 9,
   "id": "0d732cc8-7294-44b5-8a40-a0531f84d0ca",
   "metadata": {
    "pycharm": {
     "name": "#%%\n"
    }
   },
   "outputs": [
    {
     "data": {
      "image/png": "[encoded data removed]",
      "text/plain": [
       "<Figure size 432x288 with 1 Axes>"
      ]
     },
     "metadata": {
      "needs_background": "light"
     },
     "output_type": "display_data"
    }
   ],
   "source": [
    "sns.distplot(dataset.price, kde=True);"
   ]
  },
  {
   "cell_type": "markdown",
   "id": "daa5efe4-65a8-4802-9ffd-8b8bf6caf385",
   "metadata": {
    "pycharm": {
     "name": "#%% md\n"
    }
   },
   "source": [
    "<h4>Conclusions:<hr>\n",
    "    The price distribution seems to be normal. At the same time, we see that there are cars with a high price</h4>\n"
   ]
  },
  {
   "cell_type": "markdown",
   "id": "018c2a24-1ad9-4b8b-8e2a-9c7efa2c71b0",
   "metadata": {
    "pycharm": {
     "name": "#%% md\n"
    }
   },
   "source": [
    "<h3>Model</h3>"
   ]
  },
  {
   "cell_type": "code",
   "execution_count": 10,
   "id": "ebc23e70-bd15-4133-8a07-88ea41a57809",
   "metadata": {
    "pycharm": {
     "name": "#%%\n"
    }
   },
   "outputs": [
    {
     "data": {
      "text/plain": [
       " Yaris            0.31\n",
       " Aygo             0.29\n",
       " Auris            0.11\n",
       " C-HR             0.07\n",
       " RAV4             0.07\n",
       " Corolla          0.04\n",
       " Prius            0.03\n",
       " Avensis          0.02\n",
       " Verso            0.02\n",
       " Hilux            0.01\n",
       " GT86             0.01\n",
       " Land Cruiser     0.01\n",
       " PROACE VERSO     0.00\n",
       " Supra            0.00\n",
       " Camry            0.00\n",
       " IQ               0.00\n",
       " Urban Cruiser    0.00\n",
       " Verso-S          0.00\n",
       "Name: model, dtype: float64"
      ]
     },
     "execution_count": 10,
     "metadata": {},
     "output_type": "execute_result"
    }
   ],
   "source": [
    "dataset.model.value_counts(normalize=True).apply(lambda x: round(x, 2))"
   ]
  },
  {
   "cell_type": "markdown",
   "id": "42f387fd-46d1-40b6-b1b0-cc7725392bfe",
   "metadata": {
    "pycharm": {
     "name": "#%% md\n"
    }
   },
   "source": [
    "<h4>Conclusions:<hr>\n",
    "    We can see that the most popular car models are Yaris - 31%, Aygo - 29% and Auris - 11%</h4>"
   ]
  },
  {
   "cell_type": "markdown",
   "id": "b4cca076-a2fb-4ac2-8fbf-b653b2971c22",
   "metadata": {
    "pycharm": {
     "name": "#%% md\n"
    }
   },
   "source": [
    "<h3>Year</h3>"
   ]
  },
  {
   "cell_type": "code",
   "execution_count": 11,
   "id": "40649c07-1eba-4d57-97e8-7acab41555ae",
   "metadata": {
    "pycharm": {
     "name": "#%%\n"
    }
   },
   "outputs": [
    {
     "data": {
      "image/png": "[encoded data removed]",
      "text/plain": [
       "<Figure size 432x288 with 1 Axes>"
      ]
     },
     "metadata": {
      "needs_background": "light"
     },
     "output_type": "display_data"
    }
   ],
   "source": [
    "fig, ax = plt.subplots()\n",
    "ax = dataset.year.hist(bins=dataset.year.nunique())\n",
    "ax.set_ylabel('Count of cars')\n",
    "ax.set_xlabel('production year');"
   ]
  },
  {
   "cell_type": "code",
   "execution_count": 12,
   "id": "6e429e55-57e9-4e35-86c9-c2697035de71",
   "metadata": {
    "pycharm": {
     "name": "#%%\n"
    }
   },
   "outputs": [
    {
     "data": {
      "text/plain": [
       "2017    2019\n",
       "2019    1286\n",
       "2018    1015\n",
       "2016     997\n",
       "2015     525\n",
       "2014     352\n",
       "2013     204\n",
       "2020     128\n",
       "2012      42\n",
       "2011      40\n",
       "2009      29\n",
       "2007      20\n",
       "2008      19\n",
       "2010      18\n",
       "2005      12\n",
       "2006      11\n",
       "2004       7\n",
       "2003       6\n",
       "2002       4\n",
       "2001       1\n",
       "1999       1\n",
       "2000       1\n",
       "1998       1\n",
       "Name: year, dtype: int64"
      ]
     },
     "execution_count": 12,
     "metadata": {},
     "output_type": "execute_result"
    }
   ],
   "source": [
    "dataset.year.value_counts()"
   ]
  },
  {
   "cell_type": "markdown",
   "id": "99352125-56c9-4852-8a2a-a18b753898f1",
   "metadata": {
    "pycharm": {
     "name": "#%% md\n"
    }
   },
   "source": [
    "<h4>Conclusions:<hr>\n",
    "    We can see that most cars older than 2013</h4>"
   ]
  },
  {
   "cell_type": "markdown",
   "id": "0c3ac3df-11bc-43d3-a4e1-023954d1249a",
   "metadata": {
    "pycharm": {
     "name": "#%% md\n"
    }
   },
   "source": [
    "<h3> Transmission</h3>"
   ]
  },
  {
   "cell_type": "code",
   "execution_count": 13,
   "id": "61edce76-b084-4ece-a36e-09534a52999d",
   "metadata": {
    "pycharm": {
     "name": "#%%\n"
    }
   },
   "outputs": [
    {
     "data": {
      "text/plain": [
       "Manual       3826\n",
       "Automatic    2657\n",
       "Semi-Auto     254\n",
       "Other           1\n",
       "Name: transmission, dtype: int64"
      ]
     },
     "execution_count": 13,
     "metadata": {},
     "output_type": "execute_result"
    }
   ],
   "source": [
    "dataset.transmission.value_counts()"
   ]
  },
  {
   "cell_type": "code",
   "execution_count": 14,
   "id": "e828509d-782c-4865-82db-605926f1b000",
   "metadata": {
    "pycharm": {
     "name": "#%%\n"
    }
   },
   "outputs": [
    {
     "data": {
      "text/html": [
       "<div>\n",
       "<style scoped>\n",
       "    .dataframe tbody tr th:only-of-type {\n",
       "        vertical-align: middle;\n",
       "    }\n",
       "\n",
       "    .dataframe tbody tr th {\n",
       "        vertical-align: top;\n",
       "    }\n",
       "\n",
       "    .dataframe thead th {\n",
       "        text-align: right;\n",
       "    }\n",
       "</style>\n",
       "<table border=\"1\" class=\"dataframe\">\n",
       "  <thead>\n",
       "    <tr style=\"text-align: right;\">\n",
       "      <th></th>\n",
       "      <th>model</th>\n",
       "      <th>year</th>\n",
       "      <th>price</th>\n",
       "      <th>transmission</th>\n",
       "      <th>mileage</th>\n",
       "      <th>fuelType</th>\n",
       "      <th>tax</th>\n",
       "      <th>mpg</th>\n",
       "      <th>engineSize</th>\n",
       "    </tr>\n",
       "  </thead>\n",
       "  <tbody>\n",
       "    <tr>\n",
       "      <th>2458</th>\n",
       "      <td>Yaris</td>\n",
       "      <td>2015</td>\n",
       "      <td>12795</td>\n",
       "      <td>Other</td>\n",
       "      <td>16733</td>\n",
       "      <td>Hybrid</td>\n",
       "      <td>0</td>\n",
       "      <td>78.0</td>\n",
       "      <td>1.5</td>\n",
       "    </tr>\n",
       "  </tbody>\n",
       "</table>\n",
       "</div>"
      ],
      "text/plain": [
       "       model  year  price transmission  mileage fuelType  tax   mpg  \\\n",
       "2458   Yaris  2015  12795        Other    16733   Hybrid    0  78.0   \n",
       "\n",
       "      engineSize  \n",
       "2458         1.5  "
      ]
     },
     "execution_count": 14,
     "metadata": {},
     "output_type": "execute_result"
    }
   ],
   "source": [
    "dataset[dataset.transmission == 'Other']"
   ]
  },
  {
   "cell_type": "markdown",
   "id": "bff64a6c-4efa-40dd-b5a9-cd08305640ed",
   "metadata": {
    "pycharm": {
     "name": "#%% md\n"
    }
   },
   "source": [
    "<h4>Conclusions:<hr>\n",
    "    Mostly represented by cars with manual and automatic transmission. Some with Semi-Auto. And also there is a unique car (Yaris of 2015) with other transmission</h4>"
   ]
  },
  {
   "cell_type": "markdown",
   "id": "4e2ac200-ccbb-4b20-afa5-d36469d26ae6",
   "metadata": {
    "pycharm": {
     "name": "#%% md\n"
    }
   },
   "source": [
    "<h3> Mileage</h3>"
   ]
  },
  {
   "cell_type": "code",
   "execution_count": 15,
   "id": "2046031b-12a9-41a0-b9ff-0ed90e9be678",
   "metadata": {
    "pycharm": {
     "name": "#%%\n"
    }
   },
   "outputs": [
    {
     "data": {
      "image/png": "[encoded data removed]",
      "text/plain": [
       "<Figure size 432x288 with 1 Axes>"
      ]
     },
     "metadata": {
      "needs_background": "light"
     },
     "output_type": "display_data"
    }
   ],
   "source": [
    "sns.set_palette('husl')\n",
    "ax = sns.distplot(dataset.mileage)\n",
    "ax.set(title='Density of mileage');"
   ]
  },
  {
   "cell_type": "code",
   "execution_count": 16,
   "id": "521cf977-547d-41ee-92e5-c1fb030c9890",
   "metadata": {
    "pycharm": {
     "name": "#%%\n"
    }
   },
   "outputs": [
    {
     "data": {
      "text/plain": [
       "count      6738.000000\n",
       "mean      22857.413921\n",
       "std       19125.464147\n",
       "min           2.000000\n",
       "25%        9446.000000\n",
       "50%       18513.000000\n",
       "75%       31063.750000\n",
       "max      174419.000000\n",
       "Name: mileage, dtype: float64"
      ]
     },
     "execution_count": 16,
     "metadata": {},
     "output_type": "execute_result"
    }
   ],
   "source": [
    "dataset.mileage.describe()"
   ]
  },
  {
   "cell_type": "code",
   "execution_count": 17,
   "id": "21d74475-063b-466c-97d4-694a86062820",
   "metadata": {
    "pycharm": {
     "name": "#%%\n"
    }
   },
   "outputs": [
    {
     "data": {
      "text/plain": [
       "year\n",
       "2020      2118.046875\n",
       "2019      5994.275272\n",
       "2018     16093.459113\n",
       "2000     21000.000000\n",
       "2017     22086.761268\n",
       "2016     28057.120361\n",
       "2015     34763.360000\n",
       "2014     40706.750000\n",
       "2013     45820.887255\n",
       "2012     53738.023810\n",
       "2011     63553.275000\n",
       "2010     64173.833333\n",
       "2009     70039.103448\n",
       "2001     76000.000000\n",
       "2007     79386.200000\n",
       "2002     84197.000000\n",
       "2008     84719.157895\n",
       "2006     86774.272727\n",
       "1999     89000.000000\n",
       "2005     92641.833333\n",
       "2004     99889.857143\n",
       "1998    100000.000000\n",
       "2003    105751.666667\n",
       "Name: mileage, dtype: float64"
      ]
     },
     "execution_count": 17,
     "metadata": {},
     "output_type": "execute_result"
    }
   ],
   "source": [
    "# correlation between year and mileage\n",
    "dataset.groupby('year')['mileage'].mean().sort_values()"
   ]
  },
  {
   "cell_type": "code",
   "execution_count": 37,
   "id": "8e404952",
   "metadata": {
    "pycharm": {
     "name": "#%%\n"
    }
   },
   "outputs": [
    {
     "data": {
      "image/png": "[encoded data removed]",
      "text/plain": [
       "<Figure size 432x288 with 1 Axes>"
      ]
     },
     "metadata": {
      "needs_background": "light"
     },
     "output_type": "display_data"
    }
   ],
   "source": [
    "year_mileage = pd.DataFrame(dataset.groupby('year')['mileage'].mean())\n",
    "sns.lineplot(x='year', y='mileage', data=year_mileage)\n",
    "ax.set(title='Mean mileage of each year');"
   ]
  },
  {
   "cell_type": "markdown",
   "id": "b304cc49-8c06-485e-b256-eafc239d0724",
   "metadata": {
    "pycharm": {
     "name": "#%% md\n"
    }
   },
   "source": [
    "<h4>Conclusions:<hr>\n",
    "    We can see that the mean mileage of cars is about between  20 000 and 25 000 Km<br>\n",
    "    Also there is a correlation between year and mileage. The older the car, the higher its mileage</h4>"
   ]
  },
  {
   "cell_type": "markdown",
   "id": "e92ed1d7-88a7-43c9-ad43-a7cac25af677",
   "metadata": {
    "pycharm": {
     "name": "#%% md\n"
    }
   },
   "source": [
    "<h3> FuelType</h3>"
   ]
  },
  {
   "cell_type": "code",
   "execution_count": 39,
   "id": "a87179f6-df93-4757-a4b2-6fe19e09f8ab",
   "metadata": {
    "pycharm": {
     "name": "#%%\n"
    }
   },
   "outputs": [
    {
     "data": {
      "text/plain": [
       "Petrol    0.606560\n",
       "Hybrid    0.303206\n",
       "Diesel    0.074651\n",
       "Other     0.015583\n",
       "Name: fuelType, dtype: float64"
      ]
     },
     "execution_count": 39,
     "metadata": {},
     "output_type": "execute_result"
    }
   ],
   "source": [
    "dataset.fuelType.value_counts(normalize=True)"
   ]
  },
  {
   "cell_type": "code",
   "execution_count": 40,
   "id": "675ce2b8-4d3f-408d-97bf-c70eafeb93cc",
   "metadata": {
    "pycharm": {
     "name": "#%%\n"
    }
   },
   "outputs": [
    {
     "data": {
      "text/plain": [
       "fuelType\n",
       "Diesel    15697.807157\n",
       "Hybrid    17185.472834\n",
       "Other     14121.161905\n",
       "Petrol     9759.537803\n",
       "Name: price, dtype: float64"
      ]
     },
     "execution_count": 40,
     "metadata": {},
     "output_type": "execute_result"
    }
   ],
   "source": [
    "dataset.groupby('fuelType')['price'].mean()"
   ]
  },
  {
   "cell_type": "markdown",
   "id": "a0c7107d-aa0b-4cae-8095-a79658d245cb",
   "metadata": {
    "pycharm": {
     "name": "#%% md\n"
    }
   },
   "source": [
    "<h4>Conclusions:<hr>\n",
    "    There are 4 types of fuel. The most populat are Petrol - 60% and Hybrid - 30%<br>\n",
    "    Also we see that the mean price of car with Petrol ~ 9800 and with Hybrid ~ 17000<br>\n",
    "\tI think that it is a good feature for our further learning</h4>"
   ]
  },
  {
   "cell_type": "markdown",
   "id": "4f1bedb3-9006-4f73-8c2a-8f757334ac06",
   "metadata": {
    "pycharm": {
     "name": "#%% md\n"
    }
   },
   "source": [
    "<h3> Tax</h3>"
   ]
  },
  {
   "cell_type": "code",
   "execution_count": 41,
   "id": "c3191748",
   "metadata": {
    "pycharm": {
     "name": "#%%\n"
    }
   },
   "outputs": [
    {
     "data": {
      "text/plain": [
       "145    2090\n",
       "0      1790\n",
       "135     678\n",
       "30      587\n",
       "150     529\n",
       "20      253\n",
       "140     223\n",
       "125     196\n",
       "260      93\n",
       "200      74\n",
       "265      41\n",
       "160      41\n",
       "205      28\n",
       "165      23\n",
       "10       23\n",
       "235      21\n",
       "300      16\n",
       "325      13\n",
       "240       5\n",
       "330       4\n",
       "305       2\n",
       "250       1\n",
       "120       1\n",
       "155       1\n",
       "115       1\n",
       "190       1\n",
       "565       1\n",
       "555       1\n",
       "540       1\n",
       "Name: tax, dtype: int64"
      ]
     },
     "execution_count": 41,
     "metadata": {},
     "output_type": "execute_result"
    }
   ],
   "source": [
    "dataset.tax.value_counts()"
   ]
  },
  {
   "cell_type": "markdown",
   "id": "9731a274",
   "metadata": {
    "pycharm": {
     "name": "#%% md\n"
    }
   },
   "source": [
    "<h4>Conclusions:<hr>\n",
    "    Most cars are taxed at $145. There are also cars with no tax</h4>"
   ]
  },
  {
   "cell_type": "markdown",
   "id": "a617a126",
   "metadata": {
    "pycharm": {
     "name": "#%% md\n"
    }
   },
   "source": [
    "## Mpg"
   ]
  },
  {
   "cell_type": "code",
   "execution_count": 42,
   "id": "2f8cad3d",
   "metadata": {
    "pycharm": {
     "name": "#%%\n"
    }
   },
   "outputs": [
    {
     "data": {
      "image/png": "[encoded data removed]",
      "text/plain": [
       "<Figure size 432x288 with 1 Axes>"
      ]
     },
     "metadata": {
      "needs_background": "light"
     },
     "output_type": "display_data"
    }
   ],
   "source": [
    "sns.set_palette('husl')\n",
    "ax = sns.distplot(dataset.mpg)\n",
    "ax.set(title='Density of mpg');"
   ]
  },
  {
   "cell_type": "code",
   "execution_count": 43,
   "id": "1270cc5e",
   "metadata": {
    "pycharm": {
     "name": "#%%\n"
    }
   },
   "outputs": [
    {
     "data": {
      "image/png": "[encoded data removed]",
      "text/plain": [
       "<Figure size 432x288 with 1 Axes>"
      ]
     },
     "metadata": {
      "needs_background": "light"
     },
     "output_type": "display_data"
    }
   ],
   "source": [
    "sns.scatterplot(x='mpg', y='price', data=dataset);"
   ]
  },
  {
   "cell_type": "markdown",
   "id": "f17c0147",
   "metadata": {
    "pycharm": {
     "name": "#%% md\n"
    }
   },
   "source": [
    "<h4>Conclusions:<hr>\n",
    "   The variable \"mpg\" is generally distributed normally.<br>\n",
    "If you look at the graph, there is no correlation with the target variable</h4>"
   ]
  },
  {
   "cell_type": "markdown",
   "id": "96a2bdc3",
   "metadata": {
    "pycharm": {
     "name": "#%% md\n"
    }
   },
   "source": [
    "## EngineSize"
   ]
  },
  {
   "cell_type": "code",
   "execution_count": 44,
   "id": "ffd38409",
   "metadata": {
    "pycharm": {
     "name": "#%%\n"
    }
   },
   "outputs": [
    {
     "data": {
      "text/plain": [
       "1.0    2059\n",
       "1.5    1423\n",
       "1.8    1289\n",
       "1.3     601\n",
       "2.0     398\n",
       "1.2     303\n",
       "2.5     249\n",
       "1.6     169\n",
       "2.4      70\n",
       "2.2      58\n",
       "1.4      40\n",
       "2.8      36\n",
       "3.0      35\n",
       "0.0       6\n",
       "4.2       1\n",
       "4.5       1\n",
       "Name: engineSize, dtype: int64"
      ]
     },
     "execution_count": 44,
     "metadata": {},
     "output_type": "execute_result"
    }
   ],
   "source": [
    "dataset.engineSize.value_counts()"
   ]
  },
  {
   "cell_type": "code",
   "execution_count": 45,
   "id": "e8e0a878",
   "metadata": {
    "pycharm": {
     "name": "#%%\n"
    }
   },
   "outputs": [
    {
     "data": {
      "image/png": "[encoded data removed]",
      "text/plain": [
       "<Figure size 432x288 with 1 Axes>"
      ]
     },
     "metadata": {
      "needs_background": "light"
     },
     "output_type": "display_data"
    }
   ],
   "source": [
    "sns.regplot(x='engineSize', y='price', data=dataset);"
   ]
  },
  {
   "cell_type": "markdown",
   "id": "e849ee38",
   "metadata": {
    "pycharm": {
     "name": "#%% md\n"
    }
   },
   "source": [
    "<h4>Conclusions:<hr>\n",
    "   Most cars with 1.0, 1.5 and 1,8 Engine size<br>\n",
    "And we see on the graph that there is a correlation with the target variable - price</h4>"
   ]
  },
  {
   "cell_type": "markdown",
   "id": "1faa9b0f",
   "metadata": {
    "pycharm": {
     "name": "#%% md\n"
    }
   },
   "source": [
    "<a id='3'><h2>3. Pre-processing data for learning</h2></a>"
   ]
  },
  {
   "cell_type": "code",
   "execution_count": 58,
   "id": "5e106fbf",
   "metadata": {
    "pycharm": {
     "name": "#%%\n"
    }
   },
   "outputs": [
    {
     "data": {
      "text/plain": [
       "(6738, 50)"
      ]
     },
     "execution_count": 58,
     "metadata": {},
     "output_type": "execute_result"
    }
   ],
   "source": [
    "dataset_for_train = pd.get_dummies(data=dataset, columns=cat_vars, drop_first=True)\n",
    "dataset_for_train.shape"
   ]
  },
  {
   "cell_type": "code",
   "execution_count": 72,
   "id": "b60ca000",
   "metadata": {
    "pycharm": {
     "name": "#%%\n"
    }
   },
   "outputs": [],
   "source": [
    "X_train, X_test, y_train, y_test = train_test_split(dataset_for_train.drop('price', axis=1),\n",
    "                                                    dataset_for_train['price'], test_size=.2)"
   ]
  },
  {
   "cell_type": "code",
   "execution_count": 73,
   "id": "9537c2ae",
   "metadata": {
    "pycharm": {
     "name": "#%%\n"
    }
   },
   "outputs": [
    {
     "data": {
      "text/plain": [
       "((5390, 49), (1348, 49))"
      ]
     },
     "execution_count": 73,
     "metadata": {},
     "output_type": "execute_result"
    }
   ],
   "source": [
    "X_train.shape, X_test.shape"
   ]
  },
  {
   "cell_type": "code",
   "execution_count": 75,
   "id": "66bcc104",
   "metadata": {
    "pycharm": {
     "name": "#%%\n"
    }
   },
   "outputs": [
    {
     "data": {
      "text/plain": [
       "(12533.551391465677, 12477.766320474777)"
      ]
     },
     "execution_count": 75,
     "metadata": {},
     "output_type": "execute_result"
    }
   ],
   "source": [
    "y_train.mean(), y_test.mean()"
   ]
  },
  {
   "cell_type": "markdown",
   "id": "8b07c2d8",
   "metadata": {
    "pycharm": {
     "name": "#%% md\n"
    }
   },
   "source": [
    "<a id='4'><h2>4. Learning - Baseline models</h2></a>"
   ]
  },
  {
   "cell_type": "code",
   "execution_count": 92,
   "id": "ac66eba4",
   "metadata": {
    "pycharm": {
     "name": "#%%\n"
    }
   },
   "outputs": [],
   "source": [
    "def fit_cv(model,\n",
    "           X=X_train,\n",
    "           y=y_train,\n",
    "           cv=3, metrics=None):\n",
    "    model_score = cross_val_score(model(), X, y, cv=cv)\n",
    "    return model_score.mean()"
   ]
  },
  {
   "cell_type": "code",
   "execution_count": 97,
   "id": "737638ab",
   "metadata": {
    "pycharm": {
     "name": "#%%\n"
    }
   },
   "outputs": [
    {
     "name": "stdout",
     "output_type": "stream",
     "text": [
      "<class 'sklearn.linear_model._base.LinearRegression'> 0.9360822930150289\n",
      "<class 'xgboost.sklearn.XGBRegressor'> 0.9548154880118652\n",
      "<class 'sklearn.ensemble._forest.RandomForestRegressor'> 0.9500483741045335\n",
      "<class 'sklearn.linear_model._coordinate_descent.Lasso'> 0.9358736328474372\n"
     ]
    },
    {
     "data": {
      "text/plain": [
       "[None, None, None, None]"
      ]
     },
     "execution_count": 97,
     "metadata": {},
     "output_type": "execute_result"
    }
   ],
   "source": [
    "list_models = [LinearRegression, XGBRegressor, RandomForestRegressor]\n",
    "[print(i, fit_cv(i)) for i in list_models]"
   ]
  },
  {
   "cell_type": "markdown",
   "id": "06cfc0b2",
   "metadata": {
    "pycharm": {
     "name": "#%% md\n"
    }
   },
   "source": [
    "<h4>Conclusions:<hr>\n",
    "   The best result was got with the help of XGBoost and Random forest<br>\n",
    "</h4>"
   ]
  },
  {
   "cell_type": "markdown",
   "id": "9525157d",
   "metadata": {
    "pycharm": {
     "name": "#%% md\n"
    }
   },
   "source": [
    "<a id='5'><h2>5. Analysis of important features</h2></a>"
   ]
  },
  {
   "cell_type": "code",
   "execution_count": 104,
   "id": "d99e12c8",
   "metadata": {
    "pycharm": {
     "name": "#%%\n"
    }
   },
   "outputs": [],
   "source": [
    "dtrain = xgb.DMatrix(data=X_train, label=y_train)\n",
    "dtest = xgb.DMatrix(data=X_test)"
   ]
  },
  {
   "cell_type": "code",
   "execution_count": 130,
   "id": "e8c7063c",
   "metadata": {
    "pycharm": {
     "name": "#%%\n"
    }
   },
   "outputs": [],
   "source": [
    "params = {\"max_depth\": 3, \"eta\": 1}\n",
    "num_rounds = 50\n",
    "xgb_model = xgb.train(params, dtrain, num_rounds)"
   ]
  },
  {
   "cell_type": "code",
   "execution_count": 198,
   "id": "1c04572b",
   "metadata": {
    "pycharm": {
     "name": "#%%\n"
    }
   },
   "outputs": [
    {
     "name": "stdout",
     "output_type": "stream",
     "text": [
      "explained_variance_score:0.9440837612436404\n",
      "mean_squared_error:2369531.2725409605\n"
     ]
    }
   ],
   "source": [
    "preds = xgb_model.predict(dtest)\n",
    "print(f'explained_variance_score:{evs(y_test, preds)}')\n",
    "print(f'mean_squared_error:{mse(y_test, preds)}')"
   ]
  },
  {
   "cell_type": "code",
   "execution_count": 155,
   "id": "a71071a7",
   "metadata": {
    "pycharm": {
     "name": "#%%\n"
    }
   },
   "outputs": [
    {
     "data": {
      "text/plain": [
       "{'mileage': 122,\n",
       " 'mpg': 61,\n",
       " 'engineSize': 32,\n",
       " 'tax': 26,\n",
       " 'model_ C-HR': 7,\n",
       " 'year_2019': 6,\n",
       " 'model_ RAV4': 6}"
      ]
     },
     "execution_count": 155,
     "metadata": {},
     "output_type": "execute_result"
    }
   ],
   "source": [
    "xgb_importance = {k: v for k, v in sorted(xgb_model.get_fscore().items(), key=lambda item: item[1], reverse=True)}\n",
    "{k: v for k, v in xgb_importance.items() if v > 5}"
   ]
  },
  {
   "cell_type": "markdown",
   "id": "09254ea3",
   "metadata": {
    "pycharm": {
     "name": "#%% md\n"
    }
   },
   "source": [
    "<h4>Conclusions:<hr>\n",
    "   The inital score is 0.944. The most important features are 'mileage', mpg', 'engineSize' and 'tax'<br>\n",
    "</h4>"
   ]
  },
  {
   "cell_type": "markdown",
   "id": "690c98e3",
   "metadata": {
    "pycharm": {
     "name": "#%% md\n"
    }
   },
   "source": [
    "<a id='6'><h2>6. Final Learning and result</h2></a>"
   ]
  },
  {
   "cell_type": "code",
   "execution_count": 232,
   "id": "b93e6b56",
   "metadata": {
    "pycharm": {
     "name": "#%%\n"
    }
   },
   "outputs": [],
   "source": [
    "gsc = GridSearchCV(\n",
    "    estimator=xgb.XGBRegressor(),\n",
    "    param_grid={\"learning_rate\": list(np.linspace(0, 1, 5)),\n",
    "                \"max_depth\": [3, 5, 8]\n",
    "                },\n",
    "    cv=3, scoring='explained_variance', verbose=0, n_jobs=-1)\n",
    "\n",
    "grid_result = gsc.fit(X_train, y_train)\n",
    "best_params = grid_result.best_params_"
   ]
  },
  {
   "cell_type": "code",
   "execution_count": 233,
   "id": "51cce3fc",
   "metadata": {
    "pycharm": {
     "name": "#%%\n"
    }
   },
   "outputs": [
    {
     "data": {
      "text/plain": [
       "{'learning_rate': 0.25, 'max_depth': 5}"
      ]
     },
     "execution_count": 233,
     "metadata": {},
     "output_type": "execute_result"
    }
   ],
   "source": [
    "best_params"
   ]
  },
  {
   "cell_type": "code",
   "execution_count": 234,
   "id": "0d5a8d5d",
   "metadata": {
    "pycharm": {
     "name": "#%%\n"
    }
   },
   "outputs": [
    {
     "data": {
      "text/plain": [
       "0.9572758636664482"
      ]
     },
     "execution_count": 234,
     "metadata": {},
     "output_type": "execute_result"
    }
   ],
   "source": [
    "grid_result.best_score_"
   ]
  },
  {
   "cell_type": "code",
   "execution_count": 238,
   "id": "1e9f39c4",
   "metadata": {
    "pycharm": {
     "name": "#%%\n"
    }
   },
   "outputs": [],
   "source": [
    "final_model = XGBRegressor(**best_params)\n",
    "final_model.fit(X_train, y_train)\n",
    "final_preds = final_model.predict(X_test)"
   ]
  },
  {
   "cell_type": "code",
   "execution_count": 240,
   "id": "42ac6271",
   "metadata": {
    "pycharm": {
     "name": "#%%\n"
    }
   },
   "outputs": [
    {
     "name": "stdout",
     "output_type": "stream",
     "text": [
      "explained_variance_score:0.960789680259155\n",
      "mean_squared_error:1661303.6206933723\n"
     ]
    }
   ],
   "source": [
    "print(f'explained_variance_score:{evs(y_test, final_preds)}')\n",
    "print(f'mean_squared_error:{mse(y_test, final_preds)}')"
   ]
  },
  {
   "cell_type": "code",
   "execution_count": 254,
   "id": "958cd802",
   "metadata": {
    "pycharm": {
     "name": "#%%\n"
    }
   },
   "outputs": [],
   "source": [
    "# compare the results with true-values\n",
    "true_preds = pd.DataFrame()\n",
    "true_preds['true'] = y_test\n",
    "true_preds['preds'] = final_preds\n",
    "true_preds['preds'] = true_preds['preds'].apply(lambda x: int(x))"
   ]
  },
  {
   "cell_type": "code",
   "execution_count": 256,
   "id": "bdffee2e",
   "metadata": {
    "pycharm": {
     "name": "#%%\n"
    }
   },
   "outputs": [
    {
     "data": {
      "text/html": [
       "<div>\n",
       "<style scoped>\n",
       "    .dataframe tbody tr th:only-of-type {\n",
       "        vertical-align: middle;\n",
       "    }\n",
       "\n",
       "    .dataframe tbody tr th {\n",
       "        vertical-align: top;\n",
       "    }\n",
       "\n",
       "    .dataframe thead th {\n",
       "        text-align: right;\n",
       "    }\n",
       "</style>\n",
       "<table border=\"1\" class=\"dataframe\">\n",
       "  <thead>\n",
       "    <tr style=\"text-align: right;\">\n",
       "      <th></th>\n",
       "      <th>true</th>\n",
       "      <th>preds</th>\n",
       "    </tr>\n",
       "  </thead>\n",
       "  <tbody>\n",
       "    <tr>\n",
       "      <th>995</th>\n",
       "      <td>7998</td>\n",
       "      <td>8884</td>\n",
       "    </tr>\n",
       "    <tr>\n",
       "      <th>3974</th>\n",
       "      <td>13495</td>\n",
       "      <td>11303</td>\n",
       "    </tr>\n",
       "    <tr>\n",
       "      <th>3914</th>\n",
       "      <td>9000</td>\n",
       "      <td>7779</td>\n",
       "    </tr>\n",
       "    <tr>\n",
       "      <th>4074</th>\n",
       "      <td>7995</td>\n",
       "      <td>8016</td>\n",
       "    </tr>\n",
       "    <tr>\n",
       "      <th>3535</th>\n",
       "      <td>9949</td>\n",
       "      <td>10969</td>\n",
       "    </tr>\n",
       "    <tr>\n",
       "      <th>6610</th>\n",
       "      <td>24250</td>\n",
       "      <td>23642</td>\n",
       "    </tr>\n",
       "    <tr>\n",
       "      <th>4817</th>\n",
       "      <td>7976</td>\n",
       "      <td>8226</td>\n",
       "    </tr>\n",
       "    <tr>\n",
       "      <th>2061</th>\n",
       "      <td>11641</td>\n",
       "      <td>11980</td>\n",
       "    </tr>\n",
       "    <tr>\n",
       "      <th>2216</th>\n",
       "      <td>12487</td>\n",
       "      <td>12372</td>\n",
       "    </tr>\n",
       "    <tr>\n",
       "      <th>3181</th>\n",
       "      <td>8500</td>\n",
       "      <td>9470</td>\n",
       "    </tr>\n",
       "  </tbody>\n",
       "</table>\n",
       "</div>"
      ],
      "text/plain": [
       "       true  preds\n",
       "995    7998   8884\n",
       "3974  13495  11303\n",
       "3914   9000   7779\n",
       "4074   7995   8016\n",
       "3535   9949  10969\n",
       "6610  24250  23642\n",
       "4817   7976   8226\n",
       "2061  11641  11980\n",
       "2216  12487  12372\n",
       "3181   8500   9470"
      ]
     },
     "execution_count": 256,
     "metadata": {},
     "output_type": "execute_result"
    }
   ],
   "source": [
    "true_preds.head(10)"
   ]
  }
 ],
 "metadata": {
  "colab": {
   "name": "Welcome to DataCamp Workspaces.ipynb",
   "provenance": []
  },
  "kernelspec": {
   "display_name": "Python 3 (ipykernel)",
   "language": "python",
   "name": "python3"
  },
  "language_info": {
   "codemirror_mode": {
    "name": "ipython",
    "version": 3
   },
   "file_extension": ".py",
   "mimetype": "text/x-python",
   "name": "python",
   "nbconvert_exporter": "python",
   "pygments_lexer": "ipython3",
   "version": "3.8.8"
  }
 },
 "nbformat": 4,
 "nbformat_minor": 5
}